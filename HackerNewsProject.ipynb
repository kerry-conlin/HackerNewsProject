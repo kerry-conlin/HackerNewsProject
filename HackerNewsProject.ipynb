{
 "cells": [
  {
   "cell_type": "markdown",
   "metadata": {},
   "source": [
    "## Hacker News Project\n",
    "This is a guided project from DataQuest to explore what kinds of posts on Hacker News recieve the most comments, and if posts created at a certain time receive more comments on average.\n",
    "\n",
    "We're specifically interested in posts whose titles begin with either **Ask HN** or **Show HN**.\n",
    "- Users submit **Ask HN** posts to ask the Hacker News community a specific question\n",
    "- Users submit **Show HN** posts to show the Hacker News community a project, product, or just generally something interesting.\n",
    "\n",
    "The full data set can be found [here](https://www.kaggle.com/hacker-news/hacker-news-posts), though for this project we have used an abridged version of the dataset. It has been reduced by DataQuest from almost 300,000 rows to approximately 20,000 rows by removing all submissions that did not receive any comments, and then randomly sampling from the remaining submissions.\n",
    "\n",
    "Below are descriptions of the columns: \n",
    "\n",
    ">**id**: Hacker News ID of the post    \n",
    ">**title**: title of the post  \n",
    ">**url**: the url of the item being linked to  \n",
    ">**num_points**: the number of upvotes the post received  \n",
    ">**num_comments**: the number of comments the post received  \n",
    ">**author**: the name of the account that made the post  \n",
    ">**created_at**: the date and time the post was made (the time zone is Eastern Time in the US)"
   ]
  },
  {
   "cell_type": "code",
   "execution_count": 3,
   "metadata": {},
   "outputs": [],
   "source": [
    "from csv import reader\n",
    "\n",
    "# open the dataset and save as a list of lists\n",
    "opened_file = open('hacker_news.csv')\n",
    "read_file = reader(opened_file)\n",
    "hn = list(read_file)\n",
    "hn_header = hn[0]\n",
    "hn = hn[1:]\n"
   ]
  },
  {
   "cell_type": "code",
   "execution_count": 7,
   "metadata": {},
   "outputs": [
    {
     "name": "stdout",
     "output_type": "stream",
     "text": [
      "['id', 'title', 'url', 'num_points', 'num_comments', 'author', 'created_at']\n",
      "\n",
      "\n",
      "['12224879', 'Interactive Dynamic Video', 'http://www.interactivedynamicvideo.com/', '386', '52', 'ne0phyte', '8/4/2016 11:52']\n",
      "\n",
      "\n",
      "['10975351', 'How to Use Open Source and Shut the Fuck Up at the Same Time', 'http://hueniverse.com/2016/01/26/how-to-use-open-source-and-shut-the-fuck-up-at-the-same-time/', '39', '10', 'josep2', '1/26/2016 19:30']\n",
      "\n",
      "\n",
      "['11964716', \"Florida DJs May Face Felony for April Fools' Water Joke\", 'http://www.thewire.com/entertainment/2013/04/florida-djs-april-fools-water-joke/63798/', '2', '1', 'vezycash', '6/23/2016 22:20']\n",
      "\n",
      "\n",
      "['11919867', 'Technology ventures: From Idea to Enterprise', 'https://www.amazon.com/Technology-Ventures-Enterprise-Thomas-Byers/dp/0073523429', '3', '1', 'hswarna', '6/17/2016 0:01']\n",
      "\n",
      "\n",
      "['10301696', 'Note by Note: The Making of Steinway L1037 (2007)', 'http://www.nytimes.com/2007/11/07/movies/07stein.html?_r=0', '8', '2', 'walterbell', '9/30/2015 4:12']\n",
      "\n",
      "\n",
      "Number of rows: 20100\n",
      "Number of columns: 7\n"
     ]
    }
   ],
   "source": [
    "# function from DataQuest to print a selection of rows from dataset\n",
    "def explore_data(dataset, start, end, rows_and_columns=False):\n",
    "    dataset_slice = dataset[start:end]    \n",
    "    for row in dataset_slice:\n",
    "        print(row)\n",
    "        print('\\n') # adds a new (empty) line between rows\n",
    "        \n",
    "    if rows_and_columns:\n",
    "        print('Number of rows:', len(dataset))\n",
    "        print('Number of columns:', len(dataset[0]))\n",
    "\n",
    "print(hn_header)\n",
    "print('\\n')\n",
    "explore_data(hn, 0, 5, True)"
   ]
  },
  {
   "cell_type": "markdown",
   "metadata": {},
   "source": [
    "### Isolating the Posts of Interest \n",
    "Belwo we pull out the Ask HN posts and Show HN posts into separate lists for analysis."
   ]
  },
  {
   "cell_type": "code",
   "execution_count": 15,
   "metadata": {},
   "outputs": [
    {
     "name": "stdout",
     "output_type": "stream",
     "text": [
      "[['12296411', 'Ask HN: How to improve my personal website?', '', '2', '6', 'ahmedbaracat', '8/16/2016 9:55'], ['10610020', 'Ask HN: Am I the only one outraged by Twitter shutting down share counts?', '', '28', '29', 'tkfx', '11/22/2015 13:43'], ['11610310', 'Ask HN: Aby recent changes to CSS that broke mobile?', '', '1', '1', 'polskibus', '5/2/2016 10:14']]\n",
      "\n",
      "\n",
      "[['10627194', 'Show HN: Wio Link  ESP8266 Based Web of Things Hardware Development Platform', 'https://iot.seeed.cc', '26', '22', 'kfihihc', '11/25/2015 14:03'], ['10646440', 'Show HN: Something pointless I made', 'http://dn.ht/picklecat/', '747', '102', 'dhotson', '11/29/2015 22:46'], ['11590768', 'Show HN: Shanhu.io, a programming playground powered by e8vm', 'https://shanhu.io', '1', '1', 'h8liu', '4/28/2016 18:05']]\n",
      "\n",
      "\n",
      "Length of ask_posts:  1744\n",
      "Length of show_posts:  1162\n",
      "Length of other_posts:  17194\n"
     ]
    }
   ],
   "source": [
    "ask_posts = []\n",
    "show_posts = []\n",
    "other_posts = []\n",
    "\n",
    "# loop through the dataset and assign ask and show posts to specific lists\n",
    "for row in hn:\n",
    "    title = row[1].lower()\n",
    "    if title.startswith('ask hn'):\n",
    "        ask_posts.append(row)\n",
    "    elif title.startswith('show hn'):\n",
    "        show_posts.append(row)\n",
    "    else:\n",
    "        other_posts.append(row)\n",
    "        \n",
    "print(ask_posts[:3])\n",
    "print('\\n')\n",
    "print(show_posts[:3])\n",
    "print('\\n')\n",
    "print(\"Length of ask_posts: \",len(ask_posts))\n",
    "print(\"Length of show_posts: \",len(show_posts))\n",
    "print(\"Length of other_posts: \",len(other_posts))"
   ]
  },
  {
   "cell_type": "markdown",
   "metadata": {},
   "source": [
    "### Find Which Type of Post Receives More Comments\n",
    "As shown below, it seems that posts asking questions usually receive more comments than posts that showcase something from the poster. This is likely because a question invites engagement."
   ]
  },
  {
   "cell_type": "code",
   "execution_count": 18,
   "metadata": {},
   "outputs": [
    {
     "name": "stdout",
     "output_type": "stream",
     "text": [
      "Average ask post comments:  14.04\n",
      "Average show post comments:  10.32\n"
     ]
    }
   ],
   "source": [
    "# a function to find the number of comments in any selection of posts from this dataset\n",
    "def find_avg_comments(dataset):\n",
    "    num_posts = int(len(dataset))\n",
    "    total_comments = 0\n",
    "    for row in dataset:\n",
    "        num_comments = int(row[4])\n",
    "        total_comments += num_comments\n",
    "        \n",
    "    avg_comments = total_comments / num_posts\n",
    "    return avg_comments\n",
    "\n",
    "avg_ask_comments = find_avg_comments(ask_posts)\n",
    "print(\"Average ask post comments: \", format(avg_ask_comments,'.2f'))\n",
    "\n",
    "avg_show_comments = find_avg_comments(show_posts)\n",
    "print(\"Average show post comments: \", format(avg_show_comments,'.2f'))"
   ]
  },
  {
   "cell_type": "markdown",
   "metadata": {},
   "source": [
    "### Do Posts at a Certain Time get more Comments?\n",
    "Below we examine if Ask HN post comments vary depending on the time of the post."
   ]
  },
  {
   "cell_type": "code",
   "execution_count": null,
   "metadata": {},
   "outputs": [],
   "source": []
  }
 ],
 "metadata": {
  "kernelspec": {
   "display_name": "Python 3",
   "language": "python",
   "name": "python3"
  },
  "language_info": {
   "codemirror_mode": {
    "name": "ipython",
    "version": 3
   },
   "file_extension": ".py",
   "mimetype": "text/x-python",
   "name": "python",
   "nbconvert_exporter": "python",
   "pygments_lexer": "ipython3",
   "version": "3.7.6"
  }
 },
 "nbformat": 4,
 "nbformat_minor": 4
}
